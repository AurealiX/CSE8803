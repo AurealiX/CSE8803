{
 "cells": [
  {
   "cell_type": "code",
   "execution_count": 1,
   "metadata": {},
   "outputs": [],
   "source": [
    "import json\n",
    "import pandas as pd\n",
    "import pickle"
   ]
  },
  {
   "cell_type": "code",
   "execution_count": 10,
   "metadata": {},
   "outputs": [],
   "source": [
    "with open('results/responses_20241125_111333.pkl', 'rb') as f:\n",
    "    responses = pickle.load(f)\n",
    "\n",
    "for i, original in enumerate(responses['original_responses']):\n",
    "    prompt = responses['prompts'][i]\n",
    "    if original.startswith(prompt):\n",
    "        responses['original_responses'][i] = original[len(prompt):].strip()\n",
    "\n",
    "\n",
    "responses_df = pd.DataFrame(responses)\n",
    "responses_df.to_csv('results/responses_20241125_111333.csv', index=False)"
   ]
  }
 ],
 "metadata": {
  "kernelspec": {
   "display_name": "base",
   "language": "python",
   "name": "python3"
  },
  "language_info": {
   "codemirror_mode": {
    "name": "ipython",
    "version": 3
   },
   "file_extension": ".py",
   "mimetype": "text/x-python",
   "name": "python",
   "nbconvert_exporter": "python",
   "pygments_lexer": "ipython3",
   "version": "3.11.5"
  },
  "orig_nbformat": 4
 },
 "nbformat": 4,
 "nbformat_minor": 2
}
