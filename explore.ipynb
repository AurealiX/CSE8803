{
 "cells": [
  {
   "cell_type": "code",
   "execution_count": 1,
   "metadata": {},
   "outputs": [],
   "source": [
    "import json\n",
    "import pandas as pd\n",
    "import pickle"
   ]
  },
  {
   "cell_type": "code",
   "execution_count": 13,
   "metadata": {},
   "outputs": [],
   "source": [
    "with open('results/responses_20241125_145700.pkl', 'rb') as f:\n",
    "    responses = pickle.load(f)\n",
    "\n",
    "for i, original in enumerate(responses['original_responses']):\n",
    "    prompt = responses['prompts'][i]\n",
    "    # if original.startswith(prompt):\n",
    "    #     responses['original_responses'][i] = original[len(prompt):].strip()\n",
    "\n",
    "\n",
    "responses_df = pd.DataFrame(responses)\n",
    "responses_df.to_csv('results/responses_20241125_145700.csv', index=False)"
   ]
  },
  {
   "cell_type": "code",
   "execution_count": 18,
   "metadata": {},
   "outputs": [],
   "source": [
    "sampled_safe = pd.read_csv('data/safe_sampled.csv', index_col=0)\n",
    "sampled_unsafe = pd.read_csv('data/unsafe_sampled.csv', index_col=0)\n",
    "\n",
    "all_safe = pd.read_csv('data/safe.csv')\n",
    "all_unsafe = pd.read_csv('data/Privacy Violation_test.csv')\n",
    "\n",
    "sampled_safe_full = all_safe.loc[sampled_safe.index]\n",
    "sampled_unsafe_full = all_unsafe.loc[sampled_unsafe.index]\n",
    "\n",
    "sampled_safe_full.to_csv('data/safe_sampled_full.csv', index=False)\n",
    "sampled_unsafe_full.to_csv('data/unsafe_sampled_full.csv', index=False)"
   ]
  }
 ],
 "metadata": {
  "kernelspec": {
   "display_name": "base",
   "language": "python",
   "name": "python3"
  },
  "language_info": {
   "codemirror_mode": {
    "name": "ipython",
    "version": 3
   },
   "file_extension": ".py",
   "mimetype": "text/x-python",
   "name": "python",
   "nbconvert_exporter": "python",
   "pygments_lexer": "ipython3",
   "version": "3.11.5"
  },
  "orig_nbformat": 4
 },
 "nbformat": 4,
 "nbformat_minor": 2
}
